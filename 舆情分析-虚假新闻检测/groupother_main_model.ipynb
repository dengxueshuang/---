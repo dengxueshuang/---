{
 "cells": [
  {
   "cell_type": "code",
   "execution_count": 1,
   "metadata": {},
   "outputs": [],
   "source": [
    "import pandas as pd\n",
    "import numpy as np\n",
    "from sklearn import preprocessing\n",
    "import seaborn as sns\n",
    "import scipy.stats as st\n",
    "import matplotlib.pyplot as plt\n",
    "from sklearn import metrics\n",
    "import csv\n",
    "import lightgbm as lgb\n",
    "from sklearn.model_selection import GridSearchCV\n",
    "import codecs\n",
    "from sklearn import ensemble \n",
    "from sklearn.metrics import accuracy_score\n",
    "from sklearn import datasets, linear_model,discriminant_analysis"
   ]
  },
  {
   "cell_type": "code",
   "execution_count": 2,
   "metadata": {},
   "outputs": [
    {
     "data": {
      "text/html": [
       "<div>\n",
       "<style scoped>\n",
       "    .dataframe tbody tr th:only-of-type {\n",
       "        vertical-align: middle;\n",
       "    }\n",
       "\n",
       "    .dataframe tbody tr th {\n",
       "        vertical-align: top;\n",
       "    }\n",
       "\n",
       "    .dataframe thead th {\n",
       "        text-align: right;\n",
       "    }\n",
       "</style>\n",
       "<table border=\"1\" class=\"dataframe\">\n",
       "  <thead>\n",
       "    <tr style=\"text-align: right;\">\n",
       "      <th></th>\n",
       "      <th>0</th>\n",
       "      <th>1</th>\n",
       "      <th>2</th>\n",
       "      <th>3</th>\n",
       "      <th>4</th>\n",
       "      <th>5</th>\n",
       "      <th>6</th>\n",
       "      <th>7</th>\n",
       "      <th>8</th>\n",
       "      <th>9</th>\n",
       "      <th>...</th>\n",
       "      <th>41</th>\n",
       "      <th>42</th>\n",
       "      <th>43</th>\n",
       "      <th>44</th>\n",
       "      <th>45</th>\n",
       "      <th>46</th>\n",
       "      <th>47</th>\n",
       "      <th>48</th>\n",
       "      <th>49</th>\n",
       "      <th>label</th>\n",
       "    </tr>\n",
       "  </thead>\n",
       "  <tbody>\n",
       "    <tr>\n",
       "      <th>0</th>\n",
       "      <td>-15.107628</td>\n",
       "      <td>-3.130314</td>\n",
       "      <td>6.175051</td>\n",
       "      <td>-9.135251</td>\n",
       "      <td>-10.403987</td>\n",
       "      <td>-9.867655</td>\n",
       "      <td>-7.649431</td>\n",
       "      <td>16.324052</td>\n",
       "      <td>-8.831592</td>\n",
       "      <td>17.813688</td>\n",
       "      <td>...</td>\n",
       "      <td>-2.009214</td>\n",
       "      <td>5.175051</td>\n",
       "      <td>3.908467</td>\n",
       "      <td>8.256990</td>\n",
       "      <td>10.779683</td>\n",
       "      <td>-2.103171</td>\n",
       "      <td>-2.424086</td>\n",
       "      <td>4.129388</td>\n",
       "      <td>-7.292169</td>\n",
       "      <td>2</td>\n",
       "    </tr>\n",
       "    <tr>\n",
       "      <th>1</th>\n",
       "      <td>-29.218505</td>\n",
       "      <td>6.359744</td>\n",
       "      <td>19.213786</td>\n",
       "      <td>-1.418760</td>\n",
       "      <td>-20.946033</td>\n",
       "      <td>-14.555232</td>\n",
       "      <td>-35.656846</td>\n",
       "      <td>6.828385</td>\n",
       "      <td>18.802731</td>\n",
       "      <td>32.362767</td>\n",
       "      <td>...</td>\n",
       "      <td>-1.828577</td>\n",
       "      <td>6.030828</td>\n",
       "      <td>11.574831</td>\n",
       "      <td>11.231907</td>\n",
       "      <td>-4.956921</td>\n",
       "      <td>-22.338805</td>\n",
       "      <td>-14.045984</td>\n",
       "      <td>27.629232</td>\n",
       "      <td>-17.334368</td>\n",
       "      <td>2</td>\n",
       "    </tr>\n",
       "    <tr>\n",
       "      <th>2</th>\n",
       "      <td>-6.408814</td>\n",
       "      <td>0.119744</td>\n",
       "      <td>9.803304</td>\n",
       "      <td>-6.524015</td>\n",
       "      <td>-5.420116</td>\n",
       "      <td>-9.427761</td>\n",
       "      <td>-6.213066</td>\n",
       "      <td>11.583728</td>\n",
       "      <td>1.791089</td>\n",
       "      <td>3.900527</td>\n",
       "      <td>...</td>\n",
       "      <td>-6.832628</td>\n",
       "      <td>-2.062716</td>\n",
       "      <td>3.491887</td>\n",
       "      <td>13.913117</td>\n",
       "      <td>11.144877</td>\n",
       "      <td>-4.711106</td>\n",
       "      <td>-8.167360</td>\n",
       "      <td>11.589113</td>\n",
       "      <td>-13.259748</td>\n",
       "      <td>2</td>\n",
       "    </tr>\n",
       "    <tr>\n",
       "      <th>3</th>\n",
       "      <td>-45.276693</td>\n",
       "      <td>-16.633872</td>\n",
       "      <td>7.426693</td>\n",
       "      <td>-36.101171</td>\n",
       "      <td>50.170606</td>\n",
       "      <td>-78.103320</td>\n",
       "      <td>-108.612713</td>\n",
       "      <td>6.948188</td>\n",
       "      <td>15.576809</td>\n",
       "      <td>22.666508</td>\n",
       "      <td>...</td>\n",
       "      <td>5.459945</td>\n",
       "      <td>10.205177</td>\n",
       "      <td>37.654360</td>\n",
       "      <td>73.378208</td>\n",
       "      <td>49.821399</td>\n",
       "      <td>-58.397206</td>\n",
       "      <td>-62.450157</td>\n",
       "      <td>92.258205</td>\n",
       "      <td>-41.496457</td>\n",
       "      <td>2</td>\n",
       "    </tr>\n",
       "    <tr>\n",
       "      <th>4</th>\n",
       "      <td>-14.163293</td>\n",
       "      <td>3.807954</td>\n",
       "      <td>1.442593</td>\n",
       "      <td>-6.336891</td>\n",
       "      <td>-6.230219</td>\n",
       "      <td>-7.788694</td>\n",
       "      <td>2.134945</td>\n",
       "      <td>10.163298</td>\n",
       "      <td>-7.062636</td>\n",
       "      <td>7.766875</td>\n",
       "      <td>...</td>\n",
       "      <td>-3.679166</td>\n",
       "      <td>4.759412</td>\n",
       "      <td>6.405495</td>\n",
       "      <td>0.872301</td>\n",
       "      <td>11.551097</td>\n",
       "      <td>-2.008312</td>\n",
       "      <td>-3.675397</td>\n",
       "      <td>5.029831</td>\n",
       "      <td>-10.984052</td>\n",
       "      <td>2</td>\n",
       "    </tr>\n",
       "  </tbody>\n",
       "</table>\n",
       "<p>5 rows × 51 columns</p>\n",
       "</div>"
      ],
      "text/plain": [
       "           0          1          2          3          4          5  \\\n",
       "0 -15.107628  -3.130314   6.175051  -9.135251 -10.403987  -9.867655   \n",
       "1 -29.218505   6.359744  19.213786  -1.418760 -20.946033 -14.555232   \n",
       "2  -6.408814   0.119744   9.803304  -6.524015  -5.420116  -9.427761   \n",
       "3 -45.276693 -16.633872   7.426693 -36.101171  50.170606 -78.103320   \n",
       "4 -14.163293   3.807954   1.442593  -6.336891  -6.230219  -7.788694   \n",
       "\n",
       "            6          7          8          9  ...          41         42  \\\n",
       "0   -7.649431  16.324052  -8.831592  17.813688  ...   -2.009214   5.175051   \n",
       "1  -35.656846   6.828385  18.802731  32.362767  ...   -1.828577   6.030828   \n",
       "2   -6.213066  11.583728   1.791089   3.900527  ...   -6.832628  -2.062716   \n",
       "3 -108.612713   6.948188  15.576809  22.666508  ...    5.459945  10.205177   \n",
       "4    2.134945  10.163298  -7.062636   7.766875  ...   -3.679166   4.759412   \n",
       "\n",
       "          43         44         45         46         47         48  \\\n",
       "0   3.908467   8.256990  10.779683  -2.103171  -2.424086   4.129388   \n",
       "1  11.574831  11.231907  -4.956921 -22.338805 -14.045984  27.629232   \n",
       "2   3.491887  13.913117  11.144877  -4.711106  -8.167360  11.589113   \n",
       "3  37.654360  73.378208  49.821399 -58.397206 -62.450157  92.258205   \n",
       "4   6.405495   0.872301  11.551097  -2.008312  -3.675397   5.029831   \n",
       "\n",
       "          49  label  \n",
       "0  -7.292169      2  \n",
       "1 -17.334368      2  \n",
       "2 -13.259748      2  \n",
       "3 -41.496457      2  \n",
       "4 -10.984052      2  \n",
       "\n",
       "[5 rows x 51 columns]"
      ]
     },
     "execution_count": 2,
     "metadata": {},
     "output_type": "execute_result"
    }
   ],
   "source": [
    "data_train= pd.read_csv('data_wordvec_train.csv')\n",
    "data_train.head(5)"
   ]
  },
  {
   "cell_type": "code",
   "execution_count": 3,
   "metadata": {},
   "outputs": [],
   "source": [
    "datax_dummies=data_train.iloc[:,:50]"
   ]
  },
  {
   "cell_type": "code",
   "execution_count": 4,
   "metadata": {},
   "outputs": [
    {
     "data": {
      "text/html": [
       "<div>\n",
       "<style scoped>\n",
       "    .dataframe tbody tr th:only-of-type {\n",
       "        vertical-align: middle;\n",
       "    }\n",
       "\n",
       "    .dataframe tbody tr th {\n",
       "        vertical-align: top;\n",
       "    }\n",
       "\n",
       "    .dataframe thead th {\n",
       "        text-align: right;\n",
       "    }\n",
       "</style>\n",
       "<table border=\"1\" class=\"dataframe\">\n",
       "  <thead>\n",
       "    <tr style=\"text-align: right;\">\n",
       "      <th></th>\n",
       "      <th>0</th>\n",
       "      <th>1</th>\n",
       "      <th>2</th>\n",
       "      <th>3</th>\n",
       "      <th>4</th>\n",
       "      <th>5</th>\n",
       "      <th>6</th>\n",
       "      <th>7</th>\n",
       "      <th>8</th>\n",
       "      <th>9</th>\n",
       "      <th>...</th>\n",
       "      <th>40</th>\n",
       "      <th>41</th>\n",
       "      <th>42</th>\n",
       "      <th>43</th>\n",
       "      <th>44</th>\n",
       "      <th>45</th>\n",
       "      <th>46</th>\n",
       "      <th>47</th>\n",
       "      <th>48</th>\n",
       "      <th>49</th>\n",
       "    </tr>\n",
       "  </thead>\n",
       "  <tbody>\n",
       "    <tr>\n",
       "      <th>0</th>\n",
       "      <td>-15.107628</td>\n",
       "      <td>-3.130314</td>\n",
       "      <td>6.175051</td>\n",
       "      <td>-9.135251</td>\n",
       "      <td>-10.403987</td>\n",
       "      <td>-9.867655</td>\n",
       "      <td>-7.649431</td>\n",
       "      <td>16.324052</td>\n",
       "      <td>-8.831592</td>\n",
       "      <td>17.813688</td>\n",
       "      <td>...</td>\n",
       "      <td>13.637380</td>\n",
       "      <td>-2.009214</td>\n",
       "      <td>5.175051</td>\n",
       "      <td>3.908467</td>\n",
       "      <td>8.256990</td>\n",
       "      <td>10.779683</td>\n",
       "      <td>-2.103171</td>\n",
       "      <td>-2.424086</td>\n",
       "      <td>4.129388</td>\n",
       "      <td>-7.292169</td>\n",
       "    </tr>\n",
       "    <tr>\n",
       "      <th>1</th>\n",
       "      <td>-29.218505</td>\n",
       "      <td>6.359744</td>\n",
       "      <td>19.213786</td>\n",
       "      <td>-1.418760</td>\n",
       "      <td>-20.946033</td>\n",
       "      <td>-14.555232</td>\n",
       "      <td>-35.656846</td>\n",
       "      <td>6.828385</td>\n",
       "      <td>18.802731</td>\n",
       "      <td>32.362767</td>\n",
       "      <td>...</td>\n",
       "      <td>24.976372</td>\n",
       "      <td>-1.828577</td>\n",
       "      <td>6.030828</td>\n",
       "      <td>11.574831</td>\n",
       "      <td>11.231907</td>\n",
       "      <td>-4.956921</td>\n",
       "      <td>-22.338805</td>\n",
       "      <td>-14.045984</td>\n",
       "      <td>27.629232</td>\n",
       "      <td>-17.334368</td>\n",
       "    </tr>\n",
       "    <tr>\n",
       "      <th>2</th>\n",
       "      <td>-6.408814</td>\n",
       "      <td>0.119744</td>\n",
       "      <td>9.803304</td>\n",
       "      <td>-6.524015</td>\n",
       "      <td>-5.420116</td>\n",
       "      <td>-9.427761</td>\n",
       "      <td>-6.213066</td>\n",
       "      <td>11.583728</td>\n",
       "      <td>1.791089</td>\n",
       "      <td>3.900527</td>\n",
       "      <td>...</td>\n",
       "      <td>17.806256</td>\n",
       "      <td>-6.832628</td>\n",
       "      <td>-2.062716</td>\n",
       "      <td>3.491887</td>\n",
       "      <td>13.913117</td>\n",
       "      <td>11.144877</td>\n",
       "      <td>-4.711106</td>\n",
       "      <td>-8.167360</td>\n",
       "      <td>11.589113</td>\n",
       "      <td>-13.259748</td>\n",
       "    </tr>\n",
       "    <tr>\n",
       "      <th>3</th>\n",
       "      <td>-45.276693</td>\n",
       "      <td>-16.633872</td>\n",
       "      <td>7.426693</td>\n",
       "      <td>-36.101171</td>\n",
       "      <td>50.170606</td>\n",
       "      <td>-78.103320</td>\n",
       "      <td>-108.612713</td>\n",
       "      <td>6.948188</td>\n",
       "      <td>15.576809</td>\n",
       "      <td>22.666508</td>\n",
       "      <td>...</td>\n",
       "      <td>-1.348608</td>\n",
       "      <td>5.459945</td>\n",
       "      <td>10.205177</td>\n",
       "      <td>37.654360</td>\n",
       "      <td>73.378208</td>\n",
       "      <td>49.821399</td>\n",
       "      <td>-58.397206</td>\n",
       "      <td>-62.450157</td>\n",
       "      <td>92.258205</td>\n",
       "      <td>-41.496457</td>\n",
       "    </tr>\n",
       "    <tr>\n",
       "      <th>4</th>\n",
       "      <td>-14.163293</td>\n",
       "      <td>3.807954</td>\n",
       "      <td>1.442593</td>\n",
       "      <td>-6.336891</td>\n",
       "      <td>-6.230219</td>\n",
       "      <td>-7.788694</td>\n",
       "      <td>2.134945</td>\n",
       "      <td>10.163298</td>\n",
       "      <td>-7.062636</td>\n",
       "      <td>7.766875</td>\n",
       "      <td>...</td>\n",
       "      <td>6.653335</td>\n",
       "      <td>-3.679166</td>\n",
       "      <td>4.759412</td>\n",
       "      <td>6.405495</td>\n",
       "      <td>0.872301</td>\n",
       "      <td>11.551097</td>\n",
       "      <td>-2.008312</td>\n",
       "      <td>-3.675397</td>\n",
       "      <td>5.029831</td>\n",
       "      <td>-10.984052</td>\n",
       "    </tr>\n",
       "  </tbody>\n",
       "</table>\n",
       "<p>5 rows × 50 columns</p>\n",
       "</div>"
      ],
      "text/plain": [
       "           0          1          2          3          4          5  \\\n",
       "0 -15.107628  -3.130314   6.175051  -9.135251 -10.403987  -9.867655   \n",
       "1 -29.218505   6.359744  19.213786  -1.418760 -20.946033 -14.555232   \n",
       "2  -6.408814   0.119744   9.803304  -6.524015  -5.420116  -9.427761   \n",
       "3 -45.276693 -16.633872   7.426693 -36.101171  50.170606 -78.103320   \n",
       "4 -14.163293   3.807954   1.442593  -6.336891  -6.230219  -7.788694   \n",
       "\n",
       "            6          7          8          9    ...             40  \\\n",
       "0   -7.649431  16.324052  -8.831592  17.813688    ...      13.637380   \n",
       "1  -35.656846   6.828385  18.802731  32.362767    ...      24.976372   \n",
       "2   -6.213066  11.583728   1.791089   3.900527    ...      17.806256   \n",
       "3 -108.612713   6.948188  15.576809  22.666508    ...      -1.348608   \n",
       "4    2.134945  10.163298  -7.062636   7.766875    ...       6.653335   \n",
       "\n",
       "         41         42         43         44         45         46         47  \\\n",
       "0 -2.009214   5.175051   3.908467   8.256990  10.779683  -2.103171  -2.424086   \n",
       "1 -1.828577   6.030828  11.574831  11.231907  -4.956921 -22.338805 -14.045984   \n",
       "2 -6.832628  -2.062716   3.491887  13.913117  11.144877  -4.711106  -8.167360   \n",
       "3  5.459945  10.205177  37.654360  73.378208  49.821399 -58.397206 -62.450157   \n",
       "4 -3.679166   4.759412   6.405495   0.872301  11.551097  -2.008312  -3.675397   \n",
       "\n",
       "          48         49  \n",
       "0   4.129388  -7.292169  \n",
       "1  27.629232 -17.334368  \n",
       "2  11.589113 -13.259748  \n",
       "3  92.258205 -41.496457  \n",
       "4   5.029831 -10.984052  \n",
       "\n",
       "[5 rows x 50 columns]"
      ]
     },
     "execution_count": 4,
     "metadata": {},
     "output_type": "execute_result"
    }
   ],
   "source": [
    "datax_dummies.head(5)"
   ]
  },
  {
   "cell_type": "code",
   "execution_count": 5,
   "metadata": {},
   "outputs": [],
   "source": [
    "y=data_train[\"label\"]"
   ]
  },
  {
   "cell_type": "code",
   "execution_count": 6,
   "metadata": {},
   "outputs": [
    {
     "data": {
      "text/plain": [
       "0    2\n",
       "1    2\n",
       "2    2\n",
       "3    2\n",
       "4    2\n",
       "Name: label, dtype: int64"
      ]
     },
     "execution_count": 6,
     "metadata": {},
     "output_type": "execute_result"
    }
   ],
   "source": [
    "y.head(5)"
   ]
  },
  {
   "cell_type": "code",
   "execution_count": 7,
   "metadata": {},
   "outputs": [],
   "source": [
    "#切分训练集和测试集\n",
    "from sklearn.model_selection import train_test_split\n",
    "X_train,X_test,y_train,y_test = train_test_split(datax_dummies,y, test_size=0.3,random_state=45)"
   ]
  },
  {
   "cell_type": "code",
   "execution_count": 8,
   "metadata": {},
   "outputs": [
    {
     "data": {
      "text/plain": [
       "((34937, 50), (14973, 50), (34937,), (14973,))"
      ]
     },
     "execution_count": 8,
     "metadata": {},
     "output_type": "execute_result"
    }
   ],
   "source": [
    "#查看训练集测试集大小\n",
    "X_train.shape,X_test.shape,y_train.shape,y_test.shape"
   ]
  },
  {
   "cell_type": "code",
   "execution_count": 9,
   "metadata": {},
   "outputs": [],
   "source": [
    "#LGBM模型\n",
    "lgb_train = lgb.Dataset(X_train, y_train,free_raw_data=False)\n",
    "lgb_eval = lgb.Dataset(X_test, y_test, reference=lgb_train,free_raw_data=False)\n",
    "#修改数据格式，改成lgb格式"
   ]
  },
  {
   "cell_type": "code",
   "execution_count": 10,
   "metadata": {},
   "outputs": [
    {
     "name": "stdout",
     "output_type": "stream",
     "text": [
      "[LightGBM] [Warning] feature_fraction is set=0.8, colsample_bytree=1.0 will be ignored. Current value: feature_fraction=0.8\n"
     ]
    }
   ],
   "source": [
    "#LGBM模型\n",
    "from lightgbm.sklearn import LGBMClassifier\n",
    "# params = {'task': 'train', \n",
    "#           'boosting_type': 'gbdt',\n",
    "#           'num_class':3,\n",
    "#           'objective': 'multiclass',#使用分类模型\n",
    "#         }  \n",
    "gbm = LGBMClassifier(feature_fraction = 0.8,\n",
    "                    learning_rate = 0.1,\n",
    "                    max_depth= 2,\n",
    "                    num_leaves = 10)\n",
    "gbm.fit(X_train, y_train)\n",
    "y_pred_lgb  = gbm.predict(X_test)"
   ]
  },
  {
   "cell_type": "code",
   "execution_count": 11,
   "metadata": {},
   "outputs": [
    {
     "data": {
      "text/plain": [
       "array([2, 2, 1, ..., 1, 1, 2], dtype=int64)"
      ]
     },
     "execution_count": 11,
     "metadata": {},
     "output_type": "execute_result"
    }
   ],
   "source": [
    "y_pred_lgb"
   ]
  },
  {
   "cell_type": "code",
   "execution_count": 12,
   "metadata": {},
   "outputs": [
    {
     "name": "stdout",
     "output_type": "stream",
     "text": [
      "MSE: 0.5360983102918587\n"
     ]
    }
   ],
   "source": [
    "from sklearn.metrics import mean_squared_error\n",
    "MSE=mean_squared_error(y_test,y_pred_lgb)#（MSE）\n",
    "print('MSE:',MSE)"
   ]
  },
  {
   "cell_type": "code",
   "execution_count": 13,
   "metadata": {},
   "outputs": [
    {
     "name": "stdout",
     "output_type": "stream",
     "text": [
      "              precision    recall  f1-score   support\n",
      "\n",
      "           0       0.75      0.83      0.79      4784\n",
      "           1       0.90      0.74      0.81      5049\n",
      "           2       0.72      0.77      0.74      5140\n",
      "\n",
      "    accuracy                           0.78     14973\n",
      "   macro avg       0.79      0.78      0.78     14973\n",
      "weighted avg       0.79      0.78      0.78     14973\n",
      "\n"
     ]
    }
   ],
   "source": [
    "print (metrics.classification_report(y_test,y_pred_lgb))"
   ]
  },
  {
   "cell_type": "code",
   "execution_count": 14,
   "metadata": {},
   "outputs": [
    {
     "data": {
      "text/plain": [
       "<AxesSubplot:>"
      ]
     },
     "execution_count": 14,
     "metadata": {},
     "output_type": "execute_result"
    },
    {
     "data": {
      "image/png": "[encoded data removed]",
      "text/plain": [
       "<Figure size 432x288 with 2 Axes>"
      ]
     },
     "metadata": {},
     "output_type": "display_data"
    }
   ],
   "source": [
    "import seaborn as sns\n",
    "colorMetrics = metrics.confusion_matrix(y_test,y_pred_lgb)/14973#198是行数\n",
    "sns.heatmap(colorMetrics,annot=True,fmt ='.0%',cmap='Blues_r')#sns.heatmap(colorMetrics,annot=True,fmt='d')"
   ]
  },
  {
   "cell_type": "code",
   "execution_count": 15,
   "metadata": {},
   "outputs": [
    {
     "name": "stdout",
     "output_type": "stream",
     "text": [
      "正确分辨率 0.7792693514993655\n"
     ]
    }
   ],
   "source": [
    "print ('正确分辨率',metrics.accuracy_score(y_test,y_pred_lgb))"
   ]
  },
  {
   "cell_type": "code",
   "execution_count": null,
   "metadata": {},
   "outputs": [],
   "source": []
  }
 ],
 "metadata": {
  "kernelspec": {
   "display_name": "Python 3",
   "language": "python",
   "name": "python3"
  },
  "language_info": {
   "codemirror_mode": {
    "name": "ipython",
    "version": 3
   },
   "file_extension": ".py",
   "mimetype": "text/x-python",
   "name": "python",
   "nbconvert_exporter": "python",
   "pygments_lexer": "ipython3",
   "version": "3.6.5"
  }
 },
 "nbformat": 4,
 "nbformat_minor": 2
}
